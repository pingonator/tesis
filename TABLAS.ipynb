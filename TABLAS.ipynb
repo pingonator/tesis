{
 "cells": [
  {
   "cell_type": "code",
   "execution_count": 21,
   "id": "ec0d55e8",
   "metadata": {},
   "outputs": [],
   "source": [
    "import numpy as np\n",
    "import matplotlib.pyplot as plt\n",
    "T = np.linspace(0, 5, 100)"
   ]
  },
  {
   "cell_type": "code",
   "execution_count": 22,
   "id": "c5d2a0f0",
   "metadata": {},
   "outputs": [],
   "source": [
    "tipo_suelo = 1\n",
    "numero_zona = 4\n",
    "factor_uso = 1.3\n",
    "red_fuerza_sismica = 4\n",
    "g = 981 # cm/s^2"
   ]
  },
  {
   "cell_type": "code",
   "execution_count": 23,
   "id": "f5c34e7d",
   "metadata": {},
   "outputs": [
    {
     "name": "stderr",
     "output_type": "stream",
     "text": [
      "C:\\Users\\roels\\AppData\\Local\\Temp/ipykernel_21256/1041872171.py:23: RuntimeWarning: divide by zero encountered in true_divide\n",
      "  result = np.where(T < Tp, 2.5, 2.5*Tp/T)\n",
      "C:\\Users\\roels\\AppData\\Local\\Temp/ipykernel_21256/1041872171.py:24: RuntimeWarning: divide by zero encountered in true_divide\n",
      "  result = np.where(T > Tl, 2.5*Tp*Tl/T**2, result)\n"
     ]
    },
    {
     "data": {
      "text/plain": [
       "[<matplotlib.lines.Line2D at 0x1321590fd00>]"
      ]
     },
     "execution_count": 23,
     "metadata": {},
     "output_type": "execute_result"
    },
    {
     "data": {
      "image/png": "[encoded data removed]",
      "text/plain": [
       "<Figure size 432x288 with 1 Axes>"
      ]
     },
     "metadata": {
      "needs_background": "light"
     },
     "output_type": "display_data"
    }
   ],
   "source": [
    "# Factor de Zona\n",
    "# Numero de zona - Z\n",
    "tabla_Z = [0.10, 0.25, 0.35, 0.45]\n",
    "Z = tabla_Z[numero_zona-1]\n",
    "\n",
    "# Factor de Suelo\n",
    "# Zi, Si(Tipo de Suelo)\n",
    "tabla_S = [\n",
    "    [0.80, 1.00, 1.60, 2.00],\n",
    "    [0.80, 1.00, 1.20, 1.40],\n",
    "    [0.80, 1.00, 1.15, 1.20],\n",
    "    [0.80, 1.00, 1.05, 1.10]]\n",
    "S = tabla_S[numero_zona-1][tipo_suelo-1]\n",
    "\n",
    "# Si(Tipo de Suelo)\n",
    "tabla_Tp = [0.3, 0.4, 0.6, 1.0]\n",
    "tabla_Tl = [3.0, 2.5, 2.0, 1.6]\n",
    "Tp = tabla_Tp[tipo_suelo-1]\n",
    "Tl = tabla_Tl[tipo_suelo-1]\n",
    "\n",
    "# Factor de Amplificación Sísmica\n",
    "def fun_C(T, tipo_suelo):\n",
    "    result = np.where(T < Tp, 2.5, 2.5*Tp/T)\n",
    "    result = np.where(T > Tl, 2.5*Tp*Tl/T**2, result)\n",
    "    return result\n",
    "C = fun_C(T, tipo_suelo)\n",
    "\n",
    "U = factor_uso\n",
    "R = red_fuerza_sismica\n",
    "\n",
    "Sa = Z*U*C*S/R*9.81\n",
    "plt.plot(T, Sa)"
   ]
  },
  {
   "cell_type": "code",
   "execution_count": null,
   "id": "24361115",
   "metadata": {},
   "outputs": [],
   "source": []
  }
 ],
 "metadata": {
  "kernelspec": {
   "display_name": "Python 3 (ipykernel)",
   "language": "python",
   "name": "python3"
  },
  "language_info": {
   "codemirror_mode": {
    "name": "ipython",
    "version": 3
   },
   "file_extension": ".py",
   "mimetype": "text/x-python",
   "name": "python",
   "nbconvert_exporter": "python",
   "pygments_lexer": "ipython3",
   "version": "3.9.7"
  }
 },
 "nbformat": 4,
 "nbformat_minor": 5
}
